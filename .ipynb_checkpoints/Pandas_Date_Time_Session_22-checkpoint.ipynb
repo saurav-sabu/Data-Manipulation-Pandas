{
 "cells": [
  {
   "cell_type": "code",
   "execution_count": 1,
   "id": "legendary-advertising",
   "metadata": {},
   "outputs": [],
   "source": [
    "import pandas as pd\n",
    "import numpy as np"
   ]
  },
  {
   "cell_type": "markdown",
   "id": "known-spotlight",
   "metadata": {},
   "source": [
    "### Timestamp Object\n",
    "\n",
    "Time stamps reference particular moments in time (e.g., Oct 24th, 2022 at 7:00pm)"
   ]
  },
  {
   "cell_type": "markdown",
   "id": "functioning-aerospace",
   "metadata": {},
   "source": [
    "### Creating Timestamp objects"
   ]
  },
  {
   "cell_type": "code",
   "execution_count": 2,
   "id": "beautiful-quantity",
   "metadata": {},
   "outputs": [],
   "source": [
    "# creating a timestamp"
   ]
  },
  {
   "cell_type": "code",
   "execution_count": 3,
   "id": "demanding-tuning",
   "metadata": {},
   "outputs": [
    {
     "data": {
      "text/plain": [
       "Timestamp('2023-01-05 00:00:00')"
      ]
     },
     "execution_count": 3,
     "metadata": {},
     "output_type": "execute_result"
    }
   ],
   "source": [
    "pd.Timestamp(\"2023/1/5\")"
   ]
  },
  {
   "cell_type": "code",
   "execution_count": 4,
   "id": "aggressive-paragraph",
   "metadata": {},
   "outputs": [
    {
     "data": {
      "text/plain": [
       "pandas._libs.tslibs.timestamps.Timestamp"
      ]
     },
     "execution_count": 4,
     "metadata": {},
     "output_type": "execute_result"
    }
   ],
   "source": [
    "type(pd.Timestamp(\"2023/1/5\"))"
   ]
  },
  {
   "cell_type": "code",
   "execution_count": 5,
   "id": "classified-nowhere",
   "metadata": {},
   "outputs": [],
   "source": [
    "# variations"
   ]
  },
  {
   "cell_type": "code",
   "execution_count": 6,
   "id": "ahead-assessment",
   "metadata": {},
   "outputs": [
    {
     "data": {
      "text/plain": [
       "Timestamp('2023-02-27 00:00:00')"
      ]
     },
     "execution_count": 6,
     "metadata": {},
     "output_type": "execute_result"
    }
   ],
   "source": [
    "pd.Timestamp(\"2023-02-27\")"
   ]
  },
  {
   "cell_type": "code",
   "execution_count": 7,
   "id": "false-flight",
   "metadata": {},
   "outputs": [
    {
     "data": {
      "text/plain": [
       "Timestamp('2023-02-27 00:00:00')"
      ]
     },
     "execution_count": 7,
     "metadata": {},
     "output_type": "execute_result"
    }
   ],
   "source": [
    "pd.Timestamp(\"2023, 2,27\")"
   ]
  },
  {
   "cell_type": "code",
   "execution_count": 8,
   "id": "absent-export",
   "metadata": {},
   "outputs": [],
   "source": [
    "# only year"
   ]
  },
  {
   "cell_type": "code",
   "execution_count": 9,
   "id": "nutritional-simon",
   "metadata": {},
   "outputs": [
    {
     "data": {
      "text/plain": [
       "Timestamp('2023-01-01 00:00:00')"
      ]
     },
     "execution_count": 9,
     "metadata": {},
     "output_type": "execute_result"
    }
   ],
   "source": [
    "pd.Timestamp(\"2023\")"
   ]
  },
  {
   "cell_type": "code",
   "execution_count": 10,
   "id": "circular-dominant",
   "metadata": {},
   "outputs": [],
   "source": [
    "# using text"
   ]
  },
  {
   "cell_type": "code",
   "execution_count": 11,
   "id": "formal-youth",
   "metadata": {},
   "outputs": [
    {
     "data": {
      "text/plain": [
       "Timestamp('2023-01-05 00:00:00')"
      ]
     },
     "execution_count": 11,
     "metadata": {},
     "output_type": "execute_result"
    }
   ],
   "source": [
    "pd.Timestamp(\"5th January 2023\")"
   ]
  },
  {
   "cell_type": "code",
   "execution_count": 12,
   "id": "fluid-malpractice",
   "metadata": {},
   "outputs": [],
   "source": [
    "# providing time also"
   ]
  },
  {
   "cell_type": "code",
   "execution_count": 13,
   "id": "horizontal-lawrence",
   "metadata": {},
   "outputs": [
    {
     "data": {
      "text/plain": [
       "Timestamp('2023-02-27 12:00:00')"
      ]
     },
     "execution_count": 13,
     "metadata": {},
     "output_type": "execute_result"
    }
   ],
   "source": [
    "pd.Timestamp(\"2023-02-27 12:00\")"
   ]
  },
  {
   "cell_type": "code",
   "execution_count": 14,
   "id": "exclusive-pointer",
   "metadata": {},
   "outputs": [
    {
     "data": {
      "text/plain": [
       "Timestamp('2023-02-27 12:00:00')"
      ]
     },
     "execution_count": 14,
     "metadata": {},
     "output_type": "execute_result"
    }
   ],
   "source": [
    "pd.Timestamp(\"2023, 2,27 12:00\")"
   ]
  },
  {
   "cell_type": "code",
   "execution_count": 15,
   "id": "regulated-conclusion",
   "metadata": {},
   "outputs": [],
   "source": [
    "# AM and PM"
   ]
  },
  {
   "cell_type": "code",
   "execution_count": 16,
   "id": "tracked-hundred",
   "metadata": {},
   "outputs": [
    {
     "data": {
      "text/plain": [
       "Timestamp('2023-02-27 18:00:00')"
      ]
     },
     "execution_count": 16,
     "metadata": {},
     "output_type": "execute_result"
    }
   ],
   "source": [
    "pd.Timestamp(\"27th February 2023 6:00PM\")"
   ]
  },
  {
   "cell_type": "code",
   "execution_count": 17,
   "id": "lyric-novel",
   "metadata": {},
   "outputs": [
    {
     "data": {
      "text/plain": [
       "Timestamp('2023-02-27 06:00:00')"
      ]
     },
     "execution_count": 17,
     "metadata": {},
     "output_type": "execute_result"
    }
   ],
   "source": [
    "pd.Timestamp(\"27th February 2023 6:00AM\")"
   ]
  },
  {
   "cell_type": "code",
   "execution_count": 18,
   "id": "amazing-belize",
   "metadata": {},
   "outputs": [],
   "source": [
    "# using datetime.datetime object"
   ]
  },
  {
   "cell_type": "code",
   "execution_count": 19,
   "id": "champion-morrison",
   "metadata": {},
   "outputs": [
    {
     "data": {
      "text/plain": [
       "datetime.datetime(2023, 2, 27, 0, 0)"
      ]
     },
     "execution_count": 19,
     "metadata": {},
     "output_type": "execute_result"
    }
   ],
   "source": [
    "import datetime as dt\n",
    "\n",
    "dt.datetime(2023,2,27)"
   ]
  },
  {
   "cell_type": "code",
   "execution_count": 20,
   "id": "supposed-finance",
   "metadata": {},
   "outputs": [
    {
     "data": {
      "text/plain": [
       "Timestamp('2023-02-27 00:00:00')"
      ]
     },
     "execution_count": 20,
     "metadata": {},
     "output_type": "execute_result"
    }
   ],
   "source": [
    "pd.Timestamp(dt.datetime(2023,2,27))"
   ]
  },
  {
   "cell_type": "code",
   "execution_count": 21,
   "id": "informed-phone",
   "metadata": {},
   "outputs": [],
   "source": [
    "# fetching attributes"
   ]
  },
  {
   "cell_type": "code",
   "execution_count": 22,
   "id": "pressing-array",
   "metadata": {},
   "outputs": [
    {
     "data": {
      "text/plain": [
       "Timestamp('2023-02-27 06:13:24')"
      ]
     },
     "execution_count": 22,
     "metadata": {},
     "output_type": "execute_result"
    }
   ],
   "source": [
    "x = pd.Timestamp(dt.datetime(2023,2,27,6,13,24))\n",
    "x"
   ]
  },
  {
   "cell_type": "code",
   "execution_count": 23,
   "id": "resistant-eligibility",
   "metadata": {},
   "outputs": [
    {
     "data": {
      "text/plain": [
       "2023"
      ]
     },
     "execution_count": 23,
     "metadata": {},
     "output_type": "execute_result"
    }
   ],
   "source": [
    "x.year"
   ]
  },
  {
   "cell_type": "code",
   "execution_count": 24,
   "id": "hollywood-migration",
   "metadata": {},
   "outputs": [
    {
     "data": {
      "text/plain": [
       "2"
      ]
     },
     "execution_count": 24,
     "metadata": {},
     "output_type": "execute_result"
    }
   ],
   "source": [
    "x.month"
   ]
  },
  {
   "cell_type": "code",
   "execution_count": 25,
   "id": "still-incidence",
   "metadata": {},
   "outputs": [
    {
     "data": {
      "text/plain": [
       "'February'"
      ]
     },
     "execution_count": 25,
     "metadata": {},
     "output_type": "execute_result"
    }
   ],
   "source": [
    "x.month_name()"
   ]
  },
  {
   "cell_type": "code",
   "execution_count": 26,
   "id": "considerable-thriller",
   "metadata": {},
   "outputs": [
    {
     "data": {
      "text/plain": [
       "27"
      ]
     },
     "execution_count": 26,
     "metadata": {},
     "output_type": "execute_result"
    }
   ],
   "source": [
    "x.day"
   ]
  },
  {
   "cell_type": "code",
   "execution_count": 27,
   "id": "rational-limit",
   "metadata": {},
   "outputs": [
    {
     "data": {
      "text/plain": [
       "6"
      ]
     },
     "execution_count": 27,
     "metadata": {},
     "output_type": "execute_result"
    }
   ],
   "source": [
    "x.hour"
   ]
  },
  {
   "cell_type": "code",
   "execution_count": 28,
   "id": "lucky-young",
   "metadata": {},
   "outputs": [
    {
     "data": {
      "text/plain": [
       "13"
      ]
     },
     "execution_count": 28,
     "metadata": {},
     "output_type": "execute_result"
    }
   ],
   "source": [
    "x.minute"
   ]
  },
  {
   "cell_type": "code",
   "execution_count": 29,
   "id": "norwegian-intro",
   "metadata": {},
   "outputs": [
    {
     "data": {
      "text/plain": [
       "24"
      ]
     },
     "execution_count": 29,
     "metadata": {},
     "output_type": "execute_result"
    }
   ],
   "source": [
    "x.second"
   ]
  },
  {
   "cell_type": "markdown",
   "id": "damaged-kenya",
   "metadata": {},
   "source": [
    "- syntax wise datetime is very convenient\n",
    "- But the performance takes a hit while working with huge data. List vs Numpy Array\n",
    "- The weaknesses of Python's datetime format inspired the NumPy team to add a set of native time series data type to NumPy.\n",
    "- The datetime64 dtype encodes dates as 64-bit integers, and thus allows arrays of dates to be represented very compactly."
   ]
  },
  {
   "cell_type": "code",
   "execution_count": 30,
   "id": "realistic-sussex",
   "metadata": {},
   "outputs": [
    {
     "data": {
      "text/plain": [
       "array('2015-02-27', dtype='datetime64[D]')"
      ]
     },
     "execution_count": 30,
     "metadata": {},
     "output_type": "execute_result"
    }
   ],
   "source": [
    "date = np.array(\"2015-02-27\",dtype=np.datetime64)\n",
    "date"
   ]
  },
  {
   "cell_type": "code",
   "execution_count": 31,
   "id": "secure-shower",
   "metadata": {},
   "outputs": [
    {
     "data": {
      "text/plain": [
       "array(['2015-02-27', '2015-02-28', '2015-03-01', '2015-03-02',\n",
       "       '2015-03-03', '2015-03-04', '2015-03-05', '2015-03-06',\n",
       "       '2015-03-07', '2015-03-08', '2015-03-09', '2015-03-10'],\n",
       "      dtype='datetime64[D]')"
      ]
     },
     "execution_count": 31,
     "metadata": {},
     "output_type": "execute_result"
    }
   ],
   "source": [
    "date + np.arange(12)"
   ]
  },
  {
   "cell_type": "markdown",
   "id": "earned-timothy",
   "metadata": {},
   "source": [
    "- Because of the uniform type in NumPy datetime64 arrays, this type of operation can be accomplished much more quickly than if we were working directly with Python's datetime objects, especially as arrays get large \n",
    "\n",
    "- Pandas Timestamp object combines the ease-of-use of python datetime with the efficient storage and vectorized interface of numpy.datetime64\n",
    "\n",
    "- From a group of these Timestamp objects, Pandas can construct a DatetimeIndex that can be used to index data in a Series or DataFrame"
   ]
  },
  {
   "cell_type": "markdown",
   "id": "according-kitchen",
   "metadata": {},
   "source": [
    "### DatetimeIndex Object\n",
    "\n",
    "A collection of pandas timestamp"
   ]
  },
  {
   "cell_type": "code",
   "execution_count": 32,
   "id": "electoral-hybrid",
   "metadata": {},
   "outputs": [],
   "source": [
    "# from strings"
   ]
  },
  {
   "cell_type": "code",
   "execution_count": 33,
   "id": "assumed-throat",
   "metadata": {},
   "outputs": [
    {
     "data": {
      "text/plain": [
       "DatetimeIndex(['2023-01-01', '2022-01-01', '2021-01-01'], dtype='datetime64[ns]', freq=None)"
      ]
     },
     "execution_count": 33,
     "metadata": {},
     "output_type": "execute_result"
    }
   ],
   "source": [
    "pd.DatetimeIndex([\"2023-1-1\",\"2022-1-1\",\"2021-1-1\"])"
   ]
  },
  {
   "cell_type": "code",
   "execution_count": 34,
   "id": "approximate-statement",
   "metadata": {},
   "outputs": [
    {
     "data": {
      "text/plain": [
       "Timestamp('2023-01-01 00:00:00')"
      ]
     },
     "execution_count": 34,
     "metadata": {},
     "output_type": "execute_result"
    }
   ],
   "source": [
    "pd.DatetimeIndex([\"2023-1-1\",\"2022-1-1\",\"2021-1-1\"])[0]"
   ]
  },
  {
   "cell_type": "code",
   "execution_count": 35,
   "id": "handy-forwarding",
   "metadata": {},
   "outputs": [
    {
     "data": {
      "text/plain": [
       "pandas._libs.tslibs.timestamps.Timestamp"
      ]
     },
     "execution_count": 35,
     "metadata": {},
     "output_type": "execute_result"
    }
   ],
   "source": [
    "type(pd.DatetimeIndex([\"2023-1-1\",\"2022-1-1\",\"2021-1-1\"])[0])"
   ]
  },
  {
   "cell_type": "code",
   "execution_count": 36,
   "id": "related-indicator",
   "metadata": {},
   "outputs": [
    {
     "data": {
      "text/plain": [
       "pandas.core.indexes.datetimes.DatetimeIndex"
      ]
     },
     "execution_count": 36,
     "metadata": {},
     "output_type": "execute_result"
    }
   ],
   "source": [
    "type(pd.DatetimeIndex([\"2023-1-1\",\"2022-1-1\",\"2021-1-1\"]))"
   ]
  },
  {
   "cell_type": "code",
   "execution_count": 37,
   "id": "respective-planet",
   "metadata": {},
   "outputs": [],
   "source": [
    "# using python datetime object"
   ]
  },
  {
   "cell_type": "code",
   "execution_count": 38,
   "id": "wireless-discovery",
   "metadata": {},
   "outputs": [
    {
     "data": {
      "text/plain": [
       "DatetimeIndex(['2023-01-01', '2022-01-01', '2021-01-01'], dtype='datetime64[ns]', freq=None)"
      ]
     },
     "execution_count": 38,
     "metadata": {},
     "output_type": "execute_result"
    }
   ],
   "source": [
    "pd.DatetimeIndex([dt.datetime(2023,1,1),dt.datetime(2022,1,1),dt.datetime(2021,1,1)])"
   ]
  },
  {
   "cell_type": "code",
   "execution_count": 39,
   "id": "acting-imperial",
   "metadata": {},
   "outputs": [],
   "source": [
    "# using pandas timestamp object"
   ]
  },
  {
   "cell_type": "code",
   "execution_count": 40,
   "id": "chief-easter",
   "metadata": {},
   "outputs": [
    {
     "data": {
      "text/plain": [
       "DatetimeIndex(['2023-01-01', '2022-01-01', '2021-01-01'], dtype='datetime64[ns]', freq=None)"
      ]
     },
     "execution_count": 40,
     "metadata": {},
     "output_type": "execute_result"
    }
   ],
   "source": [
    "dt_index = pd.DatetimeIndex([pd.Timestamp(2023,1,1),pd.Timestamp(2022,1,1),pd.Timestamp(2021,1,1)])\n",
    "dt_index"
   ]
  },
  {
   "cell_type": "code",
   "execution_count": 41,
   "id": "funky-decimal",
   "metadata": {},
   "outputs": [],
   "source": [
    "# using datetimeindex as series index"
   ]
  },
  {
   "cell_type": "code",
   "execution_count": 42,
   "id": "negative-mortality",
   "metadata": {},
   "outputs": [
    {
     "data": {
      "text/plain": [
       "2023-01-01    1\n",
       "2022-01-01    2\n",
       "2021-01-01    3\n",
       "dtype: int64"
      ]
     },
     "execution_count": 42,
     "metadata": {},
     "output_type": "execute_result"
    }
   ],
   "source": [
    "pd.Series([1,2,3],index=dt_index)"
   ]
  },
  {
   "cell_type": "markdown",
   "id": "royal-fetish",
   "metadata": {},
   "source": [
    "### date_range function\n",
    "\n"
   ]
  },
  {
   "cell_type": "code",
   "execution_count": 43,
   "id": "ideal-leader",
   "metadata": {},
   "outputs": [],
   "source": [
    "# generate daily dates in a given range"
   ]
  },
  {
   "cell_type": "code",
   "execution_count": 44,
   "id": "organic-provision",
   "metadata": {},
   "outputs": [
    {
     "data": {
      "text/plain": [
       "DatetimeIndex(['2023-02-05', '2023-02-06', '2023-02-07', '2023-02-08',\n",
       "               '2023-02-09', '2023-02-10'],\n",
       "              dtype='datetime64[ns]', freq='D')"
      ]
     },
     "execution_count": 44,
     "metadata": {},
     "output_type": "execute_result"
    }
   ],
   "source": [
    "pd.date_range(start=\"2023-2-5\",end=\"2023-2-10\")"
   ]
  },
  {
   "cell_type": "code",
   "execution_count": 45,
   "id": "cloudy-safety",
   "metadata": {},
   "outputs": [],
   "source": [
    "# alternate days in a given range"
   ]
  },
  {
   "cell_type": "code",
   "execution_count": 46,
   "id": "entire-thirty",
   "metadata": {},
   "outputs": [
    {
     "data": {
      "text/plain": [
       "DatetimeIndex(['2023-02-05', '2023-02-07', '2023-02-09'], dtype='datetime64[ns]', freq='2D')"
      ]
     },
     "execution_count": 46,
     "metadata": {},
     "output_type": "execute_result"
    }
   ],
   "source": [
    "pd.date_range(start=\"2023-2-5\",end=\"2023-2-10\",freq=\"2D\")"
   ]
  },
  {
   "cell_type": "code",
   "execution_count": 47,
   "id": "infrared-sheet",
   "metadata": {},
   "outputs": [
    {
     "data": {
      "text/plain": [
       "DatetimeIndex(['2023-02-05', '2023-02-08'], dtype='datetime64[ns]', freq='3D')"
      ]
     },
     "execution_count": 47,
     "metadata": {},
     "output_type": "execute_result"
    }
   ],
   "source": [
    "pd.date_range(start=\"2023-2-5\",end=\"2023-2-10\",freq=\"3D\")"
   ]
  },
  {
   "cell_type": "code",
   "execution_count": 48,
   "id": "collective-delhi",
   "metadata": {},
   "outputs": [],
   "source": [
    "# business days"
   ]
  },
  {
   "cell_type": "code",
   "execution_count": 49,
   "id": "southwest-castle",
   "metadata": {},
   "outputs": [
    {
     "data": {
      "text/plain": [
       "DatetimeIndex(['2023-02-06', '2023-02-07', '2023-02-08', '2023-02-09',\n",
       "               '2023-02-10'],\n",
       "              dtype='datetime64[ns]', freq='B')"
      ]
     },
     "execution_count": 49,
     "metadata": {},
     "output_type": "execute_result"
    }
   ],
   "source": [
    "pd.date_range(start=\"2023-2-5\",end=\"2023-2-10\",freq=\"B\")"
   ]
  },
  {
   "cell_type": "code",
   "execution_count": 50,
   "id": "informal-wonder",
   "metadata": {},
   "outputs": [],
   "source": [
    "# one week per day"
   ]
  },
  {
   "cell_type": "code",
   "execution_count": 51,
   "id": "shaped-combining",
   "metadata": {},
   "outputs": [
    {
     "data": {
      "text/plain": [
       "DatetimeIndex(['2023-02-05'], dtype='datetime64[ns]', freq='W-SUN')"
      ]
     },
     "execution_count": 51,
     "metadata": {},
     "output_type": "execute_result"
    }
   ],
   "source": [
    "pd.date_range(start=\"2023-2-5\",end=\"2023-2-10\",freq=\"W\")"
   ]
  },
  {
   "cell_type": "code",
   "execution_count": 52,
   "id": "sublime-hardwood",
   "metadata": {},
   "outputs": [
    {
     "data": {
      "text/plain": [
       "DatetimeIndex(['2023-02-09'], dtype='datetime64[ns]', freq='W-THU')"
      ]
     },
     "execution_count": 52,
     "metadata": {},
     "output_type": "execute_result"
    }
   ],
   "source": [
    "pd.date_range(start=\"2023-2-5\",end=\"2023-2-10\",freq=\"W-THU\")"
   ]
  },
  {
   "cell_type": "code",
   "execution_count": 53,
   "id": "qualified-forty",
   "metadata": {},
   "outputs": [],
   "source": [
    "# Hourly data"
   ]
  },
  {
   "cell_type": "code",
   "execution_count": 54,
   "id": "ongoing-netscape",
   "metadata": {},
   "outputs": [
    {
     "data": {
      "text/plain": [
       "DatetimeIndex(['2023-02-05 00:00:00', '2023-02-05 01:00:00',\n",
       "               '2023-02-05 02:00:00', '2023-02-05 03:00:00',\n",
       "               '2023-02-05 04:00:00', '2023-02-05 05:00:00',\n",
       "               '2023-02-05 06:00:00', '2023-02-05 07:00:00',\n",
       "               '2023-02-05 08:00:00', '2023-02-05 09:00:00',\n",
       "               ...\n",
       "               '2023-02-09 15:00:00', '2023-02-09 16:00:00',\n",
       "               '2023-02-09 17:00:00', '2023-02-09 18:00:00',\n",
       "               '2023-02-09 19:00:00', '2023-02-09 20:00:00',\n",
       "               '2023-02-09 21:00:00', '2023-02-09 22:00:00',\n",
       "               '2023-02-09 23:00:00', '2023-02-10 00:00:00'],\n",
       "              dtype='datetime64[ns]', length=121, freq='H')"
      ]
     },
     "execution_count": 54,
     "metadata": {},
     "output_type": "execute_result"
    }
   ],
   "source": [
    "pd.date_range(start=\"2023-2-5\",end=\"2023-2-10\",freq=\"H\")"
   ]
  },
  {
   "cell_type": "code",
   "execution_count": 55,
   "id": "geological-nightlife",
   "metadata": {},
   "outputs": [
    {
     "data": {
      "text/plain": [
       "DatetimeIndex(['2023-02-05 00:00:00', '2023-02-05 06:00:00',\n",
       "               '2023-02-05 12:00:00', '2023-02-05 18:00:00',\n",
       "               '2023-02-06 00:00:00', '2023-02-06 06:00:00',\n",
       "               '2023-02-06 12:00:00', '2023-02-06 18:00:00',\n",
       "               '2023-02-07 00:00:00', '2023-02-07 06:00:00',\n",
       "               '2023-02-07 12:00:00', '2023-02-07 18:00:00',\n",
       "               '2023-02-08 00:00:00', '2023-02-08 06:00:00',\n",
       "               '2023-02-08 12:00:00', '2023-02-08 18:00:00',\n",
       "               '2023-02-09 00:00:00', '2023-02-09 06:00:00',\n",
       "               '2023-02-09 12:00:00', '2023-02-09 18:00:00',\n",
       "               '2023-02-10 00:00:00'],\n",
       "              dtype='datetime64[ns]', freq='6H')"
      ]
     },
     "execution_count": 55,
     "metadata": {},
     "output_type": "execute_result"
    }
   ],
   "source": [
    "pd.date_range(start=\"2023-2-5\",end=\"2023-2-10\",freq=\"6H\")"
   ]
  },
  {
   "cell_type": "code",
   "execution_count": 56,
   "id": "charged-collection",
   "metadata": {},
   "outputs": [],
   "source": [
    "# Month end"
   ]
  },
  {
   "cell_type": "code",
   "execution_count": 57,
   "id": "differential-chase",
   "metadata": {},
   "outputs": [
    {
     "data": {
      "text/plain": [
       "DatetimeIndex([], dtype='datetime64[ns]', freq='M')"
      ]
     },
     "execution_count": 57,
     "metadata": {},
     "output_type": "execute_result"
    }
   ],
   "source": [
    "pd.date_range(start=\"2023-2-5\",end=\"2023-2-10\",freq=\"M\")"
   ]
  },
  {
   "cell_type": "code",
   "execution_count": 58,
   "id": "employed-corporation",
   "metadata": {},
   "outputs": [],
   "source": [
    "# Month start"
   ]
  },
  {
   "cell_type": "code",
   "execution_count": 59,
   "id": "revised-herald",
   "metadata": {},
   "outputs": [
    {
     "data": {
      "text/plain": [
       "DatetimeIndex([], dtype='datetime64[ns]', freq='MS')"
      ]
     },
     "execution_count": 59,
     "metadata": {},
     "output_type": "execute_result"
    }
   ],
   "source": [
    "pd.date_range(start=\"2023-2-5\",end=\"2023-2-10\",freq=\"MS\")"
   ]
  },
  {
   "cell_type": "code",
   "execution_count": 60,
   "id": "developed-criticism",
   "metadata": {},
   "outputs": [],
   "source": [
    "# Year end"
   ]
  },
  {
   "cell_type": "code",
   "execution_count": 61,
   "id": "shaped-satin",
   "metadata": {},
   "outputs": [
    {
     "data": {
      "text/plain": [
       "DatetimeIndex([], dtype='datetime64[ns]', freq='A-DEC')"
      ]
     },
     "execution_count": 61,
     "metadata": {},
     "output_type": "execute_result"
    }
   ],
   "source": [
    "pd.date_range(start=\"2023-2-5\",end=\"2023-2-10\",freq=\"A\")"
   ]
  },
  {
   "cell_type": "code",
   "execution_count": 62,
   "id": "criminal-speaker",
   "metadata": {},
   "outputs": [],
   "source": [
    "# using periods"
   ]
  },
  {
   "cell_type": "code",
   "execution_count": 63,
   "id": "looking-jason",
   "metadata": {},
   "outputs": [
    {
     "data": {
      "text/plain": [
       "DatetimeIndex(['2023-02-05', '2023-02-06', '2023-02-07', '2023-02-08',\n",
       "               '2023-02-09', '2023-02-10', '2023-02-11', '2023-02-12',\n",
       "               '2023-02-13', '2023-02-14', '2023-02-15', '2023-02-16',\n",
       "               '2023-02-17', '2023-02-18', '2023-02-19', '2023-02-20',\n",
       "               '2023-02-21', '2023-02-22', '2023-02-23', '2023-02-24',\n",
       "               '2023-02-25', '2023-02-26', '2023-02-27', '2023-02-28',\n",
       "               '2023-03-01'],\n",
       "              dtype='datetime64[ns]', freq='D')"
      ]
     },
     "execution_count": 63,
     "metadata": {},
     "output_type": "execute_result"
    }
   ],
   "source": [
    "pd.date_range(start=\"2023-2-5\",periods=25)"
   ]
  },
  {
   "cell_type": "code",
   "execution_count": 64,
   "id": "higher-nicholas",
   "metadata": {},
   "outputs": [
    {
     "data": {
      "text/plain": [
       "DatetimeIndex(['2023-02-05 00:00:00', '2023-02-05 01:00:00',\n",
       "               '2023-02-05 02:00:00', '2023-02-05 03:00:00',\n",
       "               '2023-02-05 04:00:00', '2023-02-05 05:00:00',\n",
       "               '2023-02-05 06:00:00', '2023-02-05 07:00:00',\n",
       "               '2023-02-05 08:00:00', '2023-02-05 09:00:00',\n",
       "               '2023-02-05 10:00:00', '2023-02-05 11:00:00',\n",
       "               '2023-02-05 12:00:00', '2023-02-05 13:00:00',\n",
       "               '2023-02-05 14:00:00', '2023-02-05 15:00:00',\n",
       "               '2023-02-05 16:00:00', '2023-02-05 17:00:00',\n",
       "               '2023-02-05 18:00:00', '2023-02-05 19:00:00',\n",
       "               '2023-02-05 20:00:00', '2023-02-05 21:00:00',\n",
       "               '2023-02-05 22:00:00', '2023-02-05 23:00:00',\n",
       "               '2023-02-06 00:00:00'],\n",
       "              dtype='datetime64[ns]', freq='H')"
      ]
     },
     "execution_count": 64,
     "metadata": {},
     "output_type": "execute_result"
    }
   ],
   "source": [
    "pd.date_range(start=\"2023-2-5\",periods=25,freq=\"H\")"
   ]
  },
  {
   "cell_type": "markdown",
   "id": "breathing-hormone",
   "metadata": {},
   "source": [
    "### to_datetime function\n",
    "\n",
    "converts an existing objects to pandas timestamp/datetimeindex object"
   ]
  },
  {
   "cell_type": "code",
   "execution_count": 65,
   "id": "stretch-transmission",
   "metadata": {},
   "outputs": [],
   "source": [
    "# simple series example"
   ]
  },
  {
   "cell_type": "code",
   "execution_count": 66,
   "id": "opponent-feeding",
   "metadata": {},
   "outputs": [
    {
     "data": {
      "text/plain": [
       "0    2023-1-1\n",
       "1    2022-1-1\n",
       "2    2021-1-1\n",
       "dtype: object"
      ]
     },
     "execution_count": 66,
     "metadata": {},
     "output_type": "execute_result"
    }
   ],
   "source": [
    "s = pd.Series([\"2023-1-1\",\"2022-1-1\",\"2021-1-1\"])\n",
    "s"
   ]
  },
  {
   "cell_type": "code",
   "execution_count": 67,
   "id": "preliminary-tiffany",
   "metadata": {},
   "outputs": [
    {
     "data": {
      "text/plain": [
       "0   2023-01-01\n",
       "1   2022-01-01\n",
       "2   2021-01-01\n",
       "dtype: datetime64[ns]"
      ]
     },
     "execution_count": 67,
     "metadata": {},
     "output_type": "execute_result"
    }
   ],
   "source": [
    "pd.to_datetime(s)"
   ]
  },
  {
   "cell_type": "code",
   "execution_count": 68,
   "id": "romance-anthropology",
   "metadata": {},
   "outputs": [
    {
     "data": {
      "text/plain": [
       "0    2023\n",
       "1    2022\n",
       "2    2021\n",
       "dtype: int64"
      ]
     },
     "execution_count": 68,
     "metadata": {},
     "output_type": "execute_result"
    }
   ],
   "source": [
    "pd.to_datetime(s).dt.year"
   ]
  },
  {
   "cell_type": "code",
   "execution_count": 69,
   "id": "decimal-explosion",
   "metadata": {},
   "outputs": [
    {
     "data": {
      "text/plain": [
       "0    1\n",
       "1    1\n",
       "2    1\n",
       "dtype: int64"
      ]
     },
     "execution_count": 69,
     "metadata": {},
     "output_type": "execute_result"
    }
   ],
   "source": [
    "pd.to_datetime(s).dt.month"
   ]
  },
  {
   "cell_type": "code",
   "execution_count": 70,
   "id": "specified-browser",
   "metadata": {},
   "outputs": [
    {
     "data": {
      "text/plain": [
       "0    January\n",
       "1    January\n",
       "2    January\n",
       "dtype: object"
      ]
     },
     "execution_count": 70,
     "metadata": {},
     "output_type": "execute_result"
    }
   ],
   "source": [
    "pd.to_datetime(s).dt.month_name()"
   ]
  },
  {
   "cell_type": "code",
   "execution_count": 71,
   "id": "urban-blink",
   "metadata": {},
   "outputs": [],
   "source": [
    "# with errors"
   ]
  },
  {
   "cell_type": "code",
   "execution_count": 72,
   "id": "tribal-tenant",
   "metadata": {},
   "outputs": [
    {
     "data": {
      "text/plain": [
       "0      2023-1-1\n",
       "1      2022-1-1\n",
       "2    2021-130-1\n",
       "dtype: object"
      ]
     },
     "execution_count": 72,
     "metadata": {},
     "output_type": "execute_result"
    }
   ],
   "source": [
    "s = pd.Series([\"2023-1-1\",\"2022-1-1\",\"2021-130-1\"])\n",
    "s"
   ]
  },
  {
   "cell_type": "code",
   "execution_count": 73,
   "id": "senior-cassette",
   "metadata": {},
   "outputs": [
    {
     "data": {
      "text/plain": [
       "0   2023-01-01\n",
       "1   2022-01-01\n",
       "2          NaT\n",
       "dtype: datetime64[ns]"
      ]
     },
     "execution_count": 73,
     "metadata": {},
     "output_type": "execute_result"
    }
   ],
   "source": [
    "pd.to_datetime(s,errors=\"coerce\")"
   ]
  },
  {
   "cell_type": "code",
   "execution_count": 74,
   "id": "disabled-reference",
   "metadata": {},
   "outputs": [],
   "source": [
    "df = pd.read_csv(\"expense_data.csv\")"
   ]
  },
  {
   "cell_type": "code",
   "execution_count": 75,
   "id": "fleet-salmon",
   "metadata": {},
   "outputs": [
    {
     "data": {
      "text/html": [
       "<div>\n",
       "<style scoped>\n",
       "    .dataframe tbody tr th:only-of-type {\n",
       "        vertical-align: middle;\n",
       "    }\n",
       "\n",
       "    .dataframe tbody tr th {\n",
       "        vertical-align: top;\n",
       "    }\n",
       "\n",
       "    .dataframe thead th {\n",
       "        text-align: right;\n",
       "    }\n",
       "</style>\n",
       "<table border=\"1\" class=\"dataframe\">\n",
       "  <thead>\n",
       "    <tr style=\"text-align: right;\">\n",
       "      <th></th>\n",
       "      <th>Date</th>\n",
       "      <th>Account</th>\n",
       "      <th>Category</th>\n",
       "      <th>Subcategory</th>\n",
       "      <th>Note</th>\n",
       "      <th>INR</th>\n",
       "      <th>Income/Expense</th>\n",
       "      <th>Note.1</th>\n",
       "      <th>Amount</th>\n",
       "      <th>Currency</th>\n",
       "      <th>Account.1</th>\n",
       "    </tr>\n",
       "  </thead>\n",
       "  <tbody>\n",
       "    <tr>\n",
       "      <th>0</th>\n",
       "      <td>3/2/2022 10:11</td>\n",
       "      <td>CUB - online payment</td>\n",
       "      <td>Food</td>\n",
       "      <td>NaN</td>\n",
       "      <td>Brownie</td>\n",
       "      <td>50.0</td>\n",
       "      <td>Expense</td>\n",
       "      <td>NaN</td>\n",
       "      <td>50.0</td>\n",
       "      <td>INR</td>\n",
       "      <td>50.0</td>\n",
       "    </tr>\n",
       "    <tr>\n",
       "      <th>1</th>\n",
       "      <td>3/2/2022 10:11</td>\n",
       "      <td>CUB - online payment</td>\n",
       "      <td>Other</td>\n",
       "      <td>NaN</td>\n",
       "      <td>To lended people</td>\n",
       "      <td>300.0</td>\n",
       "      <td>Expense</td>\n",
       "      <td>NaN</td>\n",
       "      <td>300.0</td>\n",
       "      <td>INR</td>\n",
       "      <td>300.0</td>\n",
       "    </tr>\n",
       "    <tr>\n",
       "      <th>2</th>\n",
       "      <td>3/1/2022 19:50</td>\n",
       "      <td>CUB - online payment</td>\n",
       "      <td>Food</td>\n",
       "      <td>NaN</td>\n",
       "      <td>Dinner</td>\n",
       "      <td>78.0</td>\n",
       "      <td>Expense</td>\n",
       "      <td>NaN</td>\n",
       "      <td>78.0</td>\n",
       "      <td>INR</td>\n",
       "      <td>78.0</td>\n",
       "    </tr>\n",
       "    <tr>\n",
       "      <th>3</th>\n",
       "      <td>3/1/2022 18:56</td>\n",
       "      <td>CUB - online payment</td>\n",
       "      <td>Transportation</td>\n",
       "      <td>NaN</td>\n",
       "      <td>Metro</td>\n",
       "      <td>30.0</td>\n",
       "      <td>Expense</td>\n",
       "      <td>NaN</td>\n",
       "      <td>30.0</td>\n",
       "      <td>INR</td>\n",
       "      <td>30.0</td>\n",
       "    </tr>\n",
       "    <tr>\n",
       "      <th>4</th>\n",
       "      <td>3/1/2022 18:22</td>\n",
       "      <td>CUB - online payment</td>\n",
       "      <td>Food</td>\n",
       "      <td>NaN</td>\n",
       "      <td>Snacks</td>\n",
       "      <td>67.0</td>\n",
       "      <td>Expense</td>\n",
       "      <td>NaN</td>\n",
       "      <td>67.0</td>\n",
       "      <td>INR</td>\n",
       "      <td>67.0</td>\n",
       "    </tr>\n",
       "  </tbody>\n",
       "</table>\n",
       "</div>"
      ],
      "text/plain": [
       "             Date               Account        Category  Subcategory  \\\n",
       "0  3/2/2022 10:11  CUB - online payment            Food          NaN   \n",
       "1  3/2/2022 10:11  CUB - online payment           Other          NaN   \n",
       "2  3/1/2022 19:50  CUB - online payment            Food          NaN   \n",
       "3  3/1/2022 18:56  CUB - online payment  Transportation          NaN   \n",
       "4  3/1/2022 18:22  CUB - online payment            Food          NaN   \n",
       "\n",
       "               Note    INR Income/Expense  Note.1  Amount Currency  Account.1  \n",
       "0           Brownie   50.0        Expense     NaN    50.0      INR       50.0  \n",
       "1  To lended people  300.0        Expense     NaN   300.0      INR      300.0  \n",
       "2            Dinner   78.0        Expense     NaN    78.0      INR       78.0  \n",
       "3             Metro   30.0        Expense     NaN    30.0      INR       30.0  \n",
       "4            Snacks   67.0        Expense     NaN    67.0      INR       67.0  "
      ]
     },
     "execution_count": 75,
     "metadata": {},
     "output_type": "execute_result"
    }
   ],
   "source": [
    "df.head()"
   ]
  },
  {
   "cell_type": "code",
   "execution_count": 76,
   "id": "flying-agenda",
   "metadata": {},
   "outputs": [
    {
     "data": {
      "text/plain": [
       "Date               object\n",
       "Account            object\n",
       "Category           object\n",
       "Subcategory       float64\n",
       "Note               object\n",
       "INR               float64\n",
       "Income/Expense     object\n",
       "Note.1            float64\n",
       "Amount            float64\n",
       "Currency           object\n",
       "Account.1         float64\n",
       "dtype: object"
      ]
     },
     "execution_count": 76,
     "metadata": {},
     "output_type": "execute_result"
    }
   ],
   "source": [
    "df.dtypes"
   ]
  },
  {
   "cell_type": "code",
   "execution_count": 77,
   "id": "worst-publicity",
   "metadata": {},
   "outputs": [
    {
     "data": {
      "text/plain": [
       "0     2022-03-02 10:11:00\n",
       "1     2022-03-02 10:11:00\n",
       "2     2022-03-01 19:50:00\n",
       "3     2022-03-01 18:56:00\n",
       "4     2022-03-01 18:22:00\n",
       "              ...        \n",
       "272   2021-11-22 14:16:00\n",
       "273   2021-11-22 14:16:00\n",
       "274   2021-11-21 17:07:00\n",
       "275   2021-11-21 15:50:00\n",
       "276   2021-11-21 13:30:00\n",
       "Name: Date, Length: 277, dtype: datetime64[ns]"
      ]
     },
     "execution_count": 77,
     "metadata": {},
     "output_type": "execute_result"
    }
   ],
   "source": [
    "pd.to_datetime(df[\"Date\"])"
   ]
  },
  {
   "cell_type": "code",
   "execution_count": 78,
   "id": "unable-title",
   "metadata": {},
   "outputs": [],
   "source": [
    "df[\"Date\"] =  pd.to_datetime(df[\"Date\"])"
   ]
  },
  {
   "cell_type": "code",
   "execution_count": 79,
   "id": "sexual-deputy",
   "metadata": {},
   "outputs": [
    {
     "data": {
      "text/plain": [
       "Date              datetime64[ns]\n",
       "Account                   object\n",
       "Category                  object\n",
       "Subcategory              float64\n",
       "Note                      object\n",
       "INR                      float64\n",
       "Income/Expense            object\n",
       "Note.1                   float64\n",
       "Amount                   float64\n",
       "Currency                  object\n",
       "Account.1                float64\n",
       "dtype: object"
      ]
     },
     "execution_count": 79,
     "metadata": {},
     "output_type": "execute_result"
    }
   ],
   "source": [
    "df.dtypes"
   ]
  },
  {
   "cell_type": "markdown",
   "id": "pending-classroom",
   "metadata": {},
   "source": [
    "### dt accessor\n",
    "\n",
    "Accessor object for datetimelike properties of the Series values."
   ]
  },
  {
   "cell_type": "code",
   "execution_count": 80,
   "id": "curious-executive",
   "metadata": {},
   "outputs": [
    {
     "data": {
      "text/plain": [
       "0      2022\n",
       "1      2022\n",
       "2      2022\n",
       "3      2022\n",
       "4      2022\n",
       "       ... \n",
       "272    2021\n",
       "273    2021\n",
       "274    2021\n",
       "275    2021\n",
       "276    2021\n",
       "Name: Date, Length: 277, dtype: int64"
      ]
     },
     "execution_count": 80,
     "metadata": {},
     "output_type": "execute_result"
    }
   ],
   "source": [
    "df[\"Date\"].dt.year"
   ]
  },
  {
   "cell_type": "code",
   "execution_count": 81,
   "id": "appropriate-robert",
   "metadata": {},
   "outputs": [
    {
     "data": {
      "text/plain": [
       "0       3\n",
       "1       3\n",
       "2       3\n",
       "3       3\n",
       "4       3\n",
       "       ..\n",
       "272    11\n",
       "273    11\n",
       "274    11\n",
       "275    11\n",
       "276    11\n",
       "Name: Date, Length: 277, dtype: int64"
      ]
     },
     "execution_count": 81,
     "metadata": {},
     "output_type": "execute_result"
    }
   ],
   "source": [
    "df[\"Date\"].dt.month"
   ]
  },
  {
   "cell_type": "code",
   "execution_count": 82,
   "id": "directed-helicopter",
   "metadata": {},
   "outputs": [
    {
     "data": {
      "text/plain": [
       "0         March\n",
       "1         March\n",
       "2         March\n",
       "3         March\n",
       "4         March\n",
       "         ...   \n",
       "272    November\n",
       "273    November\n",
       "274    November\n",
       "275    November\n",
       "276    November\n",
       "Name: Date, Length: 277, dtype: object"
      ]
     },
     "execution_count": 82,
     "metadata": {},
     "output_type": "execute_result"
    }
   ],
   "source": [
    "df[\"Date\"].dt.month_name()"
   ]
  },
  {
   "cell_type": "code",
   "execution_count": 83,
   "id": "steady-taylor",
   "metadata": {},
   "outputs": [
    {
     "data": {
      "text/plain": [
       "0      False\n",
       "1      False\n",
       "2      False\n",
       "3      False\n",
       "4      False\n",
       "       ...  \n",
       "272    False\n",
       "273    False\n",
       "274    False\n",
       "275    False\n",
       "276    False\n",
       "Name: Date, Length: 277, dtype: bool"
      ]
     },
     "execution_count": 83,
     "metadata": {},
     "output_type": "execute_result"
    }
   ],
   "source": [
    "df[\"Date\"].dt.is_month_end"
   ]
  },
  {
   "cell_type": "code",
   "execution_count": 84,
   "id": "clean-nepal",
   "metadata": {},
   "outputs": [],
   "source": [
    "# plot graph"
   ]
  },
  {
   "cell_type": "code",
   "execution_count": 85,
   "id": "jewish-submission",
   "metadata": {},
   "outputs": [],
   "source": [
    "import matplotlib.pyplot as plt"
   ]
  },
  {
   "cell_type": "code",
   "execution_count": 86,
   "id": "temporal-affairs",
   "metadata": {},
   "outputs": [
    {
     "data": {
      "text/plain": [
       "[<matplotlib.lines.Line2D at 0x1c1512fde50>]"
      ]
     },
     "execution_count": 86,
     "metadata": {},
     "output_type": "execute_result"
    },
    {
     "data": {
      "image/png": "[encoded data removed]",
      "text/plain": [
       "<Figure size 432x288 with 1 Axes>"
      ]
     },
     "metadata": {
      "needs_background": "light"
     },
     "output_type": "display_data"
    }
   ],
   "source": [
    "plt.plot(df[\"Date\"],df[\"INR\"])"
   ]
  },
  {
   "cell_type": "code",
   "execution_count": 87,
   "id": "ready-slave",
   "metadata": {},
   "outputs": [
    {
     "data": {
      "text/plain": [
       "0      Wednesday\n",
       "1      Wednesday\n",
       "2        Tuesday\n",
       "3        Tuesday\n",
       "4        Tuesday\n",
       "         ...    \n",
       "272       Monday\n",
       "273       Monday\n",
       "274       Sunday\n",
       "275       Sunday\n",
       "276       Sunday\n",
       "Name: Day_name, Length: 277, dtype: object"
      ]
     },
     "execution_count": 87,
     "metadata": {},
     "output_type": "execute_result"
    }
   ],
   "source": [
    "df[\"Day_name\"] = df[\"Date\"].dt.day_name()\n",
    "df[\"Day_name\"]"
   ]
  },
  {
   "cell_type": "code",
   "execution_count": 88,
   "id": "structured-solution",
   "metadata": {},
   "outputs": [
    {
     "data": {
      "text/plain": [
       "Day_name\n",
       "Friday        6910.00\n",
       "Monday        6248.95\n",
       "Saturday     34421.02\n",
       "Sunday       31542.40\n",
       "Thursday      9570.51\n",
       "Tuesday      17344.65\n",
       "Wednesday     7740.47\n",
       "Name: INR, dtype: float64"
      ]
     },
     "execution_count": 88,
     "metadata": {},
     "output_type": "execute_result"
    }
   ],
   "source": [
    "df.groupby(\"Day_name\")[\"INR\"].sum()"
   ]
  },
  {
   "cell_type": "code",
   "execution_count": 89,
   "id": "arbitrary-pontiac",
   "metadata": {},
   "outputs": [
    {
     "data": {
      "text/plain": [
       "<AxesSubplot:xlabel='Day_name'>"
      ]
     },
     "execution_count": 89,
     "metadata": {},
     "output_type": "execute_result"
    },
    {
     "data": {
      "image/png": "[encoded data removed]",
      "text/plain": [
       "<Figure size 432x288 with 1 Axes>"
      ]
     },
     "metadata": {
      "needs_background": "light"
     },
     "output_type": "display_data"
    }
   ],
   "source": [
    "df.groupby(\"Day_name\")[\"INR\"].sum().plot(kind=\"bar\")"
   ]
  },
  {
   "cell_type": "code",
   "execution_count": 90,
   "id": "former-cannon",
   "metadata": {},
   "outputs": [
    {
     "data": {
      "text/plain": [
       "0         March\n",
       "1         March\n",
       "2         March\n",
       "3         March\n",
       "4         March\n",
       "         ...   \n",
       "272    November\n",
       "273    November\n",
       "274    November\n",
       "275    November\n",
       "276    November\n",
       "Name: Month_name, Length: 277, dtype: object"
      ]
     },
     "execution_count": 90,
     "metadata": {},
     "output_type": "execute_result"
    }
   ],
   "source": [
    "df[\"Month_name\"] = df[\"Date\"].dt.month_name()\n",
    "df[\"Month_name\"]"
   ]
  },
  {
   "cell_type": "code",
   "execution_count": 91,
   "id": "whole-debate",
   "metadata": {},
   "outputs": [
    {
     "data": {
      "text/plain": [
       "Month_name\n",
       "December    28644.44\n",
       "February    36064.65\n",
       "January     40320.51\n",
       "March        1125.00\n",
       "November     7623.40\n",
       "Name: INR, dtype: float64"
      ]
     },
     "execution_count": 91,
     "metadata": {},
     "output_type": "execute_result"
    }
   ],
   "source": [
    "df.groupby(\"Month_name\")[\"INR\"].sum()"
   ]
  },
  {
   "cell_type": "code",
   "execution_count": 92,
   "id": "conventional-intelligence",
   "metadata": {},
   "outputs": [
    {
     "data": {
      "text/plain": [
       "<AxesSubplot:xlabel='Month_name'>"
      ]
     },
     "execution_count": 92,
     "metadata": {},
     "output_type": "execute_result"
    },
    {
     "data": {
      "image/png": "[encoded data removed]",
      "text/plain": [
       "<Figure size 432x288 with 1 Axes>"
      ]
     },
     "metadata": {
      "needs_background": "light"
     },
     "output_type": "display_data"
    }
   ],
   "source": [
    "df.groupby(\"Month_name\")[\"INR\"].sum().plot(kind=\"bar\")"
   ]
  },
  {
   "cell_type": "code",
   "execution_count": 93,
   "id": "congressional-bennett",
   "metadata": {},
   "outputs": [
    {
     "data": {
      "text/plain": [
       "<AxesSubplot:xlabel='Month_name'>"
      ]
     },
     "execution_count": 93,
     "metadata": {},
     "output_type": "execute_result"
    },
    {
     "data": {
      "image/png": "[encoded data removed]",
      "text/plain": [
       "<Figure size 432x288 with 1 Axes>"
      ]
     },
     "metadata": {
      "needs_background": "light"
     },
     "output_type": "display_data"
    }
   ],
   "source": [
    "df.groupby(\"Month_name\")[\"INR\"].mean().plot(kind=\"bar\")"
   ]
  },
  {
   "cell_type": "code",
   "execution_count": 94,
   "id": "reflected-exclusion",
   "metadata": {},
   "outputs": [
    {
     "data": {
      "text/plain": [
       "0      False\n",
       "1      False\n",
       "2      False\n",
       "3      False\n",
       "4      False\n",
       "       ...  \n",
       "272    False\n",
       "273    False\n",
       "274    False\n",
       "275    False\n",
       "276    False\n",
       "Name: Date, Length: 277, dtype: bool"
      ]
     },
     "execution_count": 94,
     "metadata": {},
     "output_type": "execute_result"
    }
   ],
   "source": [
    "df[\"Date\"].dt.is_month_end"
   ]
  },
  {
   "cell_type": "code",
   "execution_count": 95,
   "id": "alive-review",
   "metadata": {},
   "outputs": [
    {
     "data": {
      "text/html": [
       "<div>\n",
       "<style scoped>\n",
       "    .dataframe tbody tr th:only-of-type {\n",
       "        vertical-align: middle;\n",
       "    }\n",
       "\n",
       "    .dataframe tbody tr th {\n",
       "        vertical-align: top;\n",
       "    }\n",
       "\n",
       "    .dataframe thead th {\n",
       "        text-align: right;\n",
       "    }\n",
       "</style>\n",
       "<table border=\"1\" class=\"dataframe\">\n",
       "  <thead>\n",
       "    <tr style=\"text-align: right;\">\n",
       "      <th></th>\n",
       "      <th>Date</th>\n",
       "      <th>Account</th>\n",
       "      <th>Category</th>\n",
       "      <th>Subcategory</th>\n",
       "      <th>Note</th>\n",
       "      <th>INR</th>\n",
       "      <th>Income/Expense</th>\n",
       "      <th>Note.1</th>\n",
       "      <th>Amount</th>\n",
       "      <th>Currency</th>\n",
       "      <th>Account.1</th>\n",
       "      <th>Day_name</th>\n",
       "      <th>Month_name</th>\n",
       "    </tr>\n",
       "  </thead>\n",
       "  <tbody>\n",
       "    <tr>\n",
       "      <th>7</th>\n",
       "      <td>2022-02-28 11:56:00</td>\n",
       "      <td>CUB - online payment</td>\n",
       "      <td>Food</td>\n",
       "      <td>NaN</td>\n",
       "      <td>Pizza</td>\n",
       "      <td>339.15</td>\n",
       "      <td>Expense</td>\n",
       "      <td>NaN</td>\n",
       "      <td>339.15</td>\n",
       "      <td>INR</td>\n",
       "      <td>339.15</td>\n",
       "      <td>Monday</td>\n",
       "      <td>February</td>\n",
       "    </tr>\n",
       "    <tr>\n",
       "      <th>8</th>\n",
       "      <td>2022-02-28 11:45:00</td>\n",
       "      <td>CUB - online payment</td>\n",
       "      <td>Other</td>\n",
       "      <td>NaN</td>\n",
       "      <td>From kumara</td>\n",
       "      <td>200.00</td>\n",
       "      <td>Income</td>\n",
       "      <td>NaN</td>\n",
       "      <td>200.00</td>\n",
       "      <td>INR</td>\n",
       "      <td>200.00</td>\n",
       "      <td>Monday</td>\n",
       "      <td>February</td>\n",
       "    </tr>\n",
       "    <tr>\n",
       "      <th>61</th>\n",
       "      <td>2022-01-31 08:44:00</td>\n",
       "      <td>CUB - online payment</td>\n",
       "      <td>Transportation</td>\n",
       "      <td>NaN</td>\n",
       "      <td>Vnr to apk</td>\n",
       "      <td>50.00</td>\n",
       "      <td>Expense</td>\n",
       "      <td>NaN</td>\n",
       "      <td>50.00</td>\n",
       "      <td>INR</td>\n",
       "      <td>50.00</td>\n",
       "      <td>Monday</td>\n",
       "      <td>January</td>\n",
       "    </tr>\n",
       "    <tr>\n",
       "      <th>62</th>\n",
       "      <td>2022-01-31 08:27:00</td>\n",
       "      <td>CUB - online payment</td>\n",
       "      <td>Other</td>\n",
       "      <td>NaN</td>\n",
       "      <td>To vicky</td>\n",
       "      <td>200.00</td>\n",
       "      <td>Expense</td>\n",
       "      <td>NaN</td>\n",
       "      <td>200.00</td>\n",
       "      <td>INR</td>\n",
       "      <td>200.00</td>\n",
       "      <td>Monday</td>\n",
       "      <td>January</td>\n",
       "    </tr>\n",
       "    <tr>\n",
       "      <th>63</th>\n",
       "      <td>2022-01-31 08:26:00</td>\n",
       "      <td>CUB - online payment</td>\n",
       "      <td>Transportation</td>\n",
       "      <td>NaN</td>\n",
       "      <td>To ksr station</td>\n",
       "      <td>153.00</td>\n",
       "      <td>Expense</td>\n",
       "      <td>NaN</td>\n",
       "      <td>153.00</td>\n",
       "      <td>INR</td>\n",
       "      <td>153.00</td>\n",
       "      <td>Monday</td>\n",
       "      <td>January</td>\n",
       "    </tr>\n",
       "    <tr>\n",
       "      <th>242</th>\n",
       "      <td>2021-11-30 14:24:00</td>\n",
       "      <td>CUB - online payment</td>\n",
       "      <td>Gift</td>\n",
       "      <td>NaN</td>\n",
       "      <td>Bharath birthday</td>\n",
       "      <td>115.00</td>\n",
       "      <td>Expense</td>\n",
       "      <td>NaN</td>\n",
       "      <td>115.00</td>\n",
       "      <td>INR</td>\n",
       "      <td>115.00</td>\n",
       "      <td>Tuesday</td>\n",
       "      <td>November</td>\n",
       "    </tr>\n",
       "    <tr>\n",
       "      <th>243</th>\n",
       "      <td>2021-11-30 14:17:00</td>\n",
       "      <td>CUB - online payment</td>\n",
       "      <td>Food</td>\n",
       "      <td>NaN</td>\n",
       "      <td>Lunch with company</td>\n",
       "      <td>128.00</td>\n",
       "      <td>Expense</td>\n",
       "      <td>NaN</td>\n",
       "      <td>128.00</td>\n",
       "      <td>INR</td>\n",
       "      <td>128.00</td>\n",
       "      <td>Tuesday</td>\n",
       "      <td>November</td>\n",
       "    </tr>\n",
       "    <tr>\n",
       "      <th>244</th>\n",
       "      <td>2021-11-30 10:11:00</td>\n",
       "      <td>CUB - online payment</td>\n",
       "      <td>Food</td>\n",
       "      <td>NaN</td>\n",
       "      <td>Breakfast</td>\n",
       "      <td>70.00</td>\n",
       "      <td>Expense</td>\n",
       "      <td>NaN</td>\n",
       "      <td>70.00</td>\n",
       "      <td>INR</td>\n",
       "      <td>70.00</td>\n",
       "      <td>Tuesday</td>\n",
       "      <td>November</td>\n",
       "    </tr>\n",
       "  </tbody>\n",
       "</table>\n",
       "</div>"
      ],
      "text/plain": [
       "                   Date               Account        Category  Subcategory  \\\n",
       "7   2022-02-28 11:56:00  CUB - online payment            Food          NaN   \n",
       "8   2022-02-28 11:45:00  CUB - online payment           Other          NaN   \n",
       "61  2022-01-31 08:44:00  CUB - online payment  Transportation          NaN   \n",
       "62  2022-01-31 08:27:00  CUB - online payment           Other          NaN   \n",
       "63  2022-01-31 08:26:00  CUB - online payment  Transportation          NaN   \n",
       "242 2021-11-30 14:24:00  CUB - online payment            Gift          NaN   \n",
       "243 2021-11-30 14:17:00  CUB - online payment            Food          NaN   \n",
       "244 2021-11-30 10:11:00  CUB - online payment            Food          NaN   \n",
       "\n",
       "                   Note     INR Income/Expense  Note.1  Amount Currency  \\\n",
       "7                 Pizza  339.15        Expense     NaN  339.15      INR   \n",
       "8           From kumara  200.00         Income     NaN  200.00      INR   \n",
       "61           Vnr to apk   50.00        Expense     NaN   50.00      INR   \n",
       "62             To vicky  200.00        Expense     NaN  200.00      INR   \n",
       "63       To ksr station  153.00        Expense     NaN  153.00      INR   \n",
       "242    Bharath birthday  115.00        Expense     NaN  115.00      INR   \n",
       "243  Lunch with company  128.00        Expense     NaN  128.00      INR   \n",
       "244           Breakfast   70.00        Expense     NaN   70.00      INR   \n",
       "\n",
       "     Account.1 Day_name Month_name  \n",
       "7       339.15   Monday   February  \n",
       "8       200.00   Monday   February  \n",
       "61       50.00   Monday    January  \n",
       "62      200.00   Monday    January  \n",
       "63      153.00   Monday    January  \n",
       "242     115.00  Tuesday   November  \n",
       "243     128.00  Tuesday   November  \n",
       "244      70.00  Tuesday   November  "
      ]
     },
     "execution_count": 95,
     "metadata": {},
     "output_type": "execute_result"
    }
   ],
   "source": [
    "df[df[\"Date\"].dt.is_month_end]"
   ]
  }
 ],
 "metadata": {
  "kernelspec": {
   "display_name": "Python 3",
   "language": "python",
   "name": "python3"
  },
  "language_info": {
   "codemirror_mode": {
    "name": "ipython",
    "version": 3
   },
   "file_extension": ".py",
   "mimetype": "text/x-python",
   "name": "python",
   "nbconvert_exporter": "python",
   "pygments_lexer": "ipython3",
   "version": "3.9.1"
  }
 },
 "nbformat": 4,
 "nbformat_minor": 5
}
